{
 "cells": [
  {
   "cell_type": "code",
   "execution_count": 1,
   "metadata": {},
   "outputs": [],
   "source": [
    "import numpy as np\n",
    "import torch\n",
    "import torchtext\n",
    "import pickle\n",
    "import csv\n",
    "import unicodedata\n",
    "import re, random, time, string, subprocess\n",
    "import os, sys, copy\n",
    "import sacrebleu\n",
    "from matplotlib import pyplot as plt\n",
    "import matplotlib.ticker as ticker\n",
    "\n",
    "import matplotlib.font_manager as mfm\n"
   ]
  },
  {
   "cell_type": "markdown",
   "metadata": {},
   "source": [
    "# Vi to En"
   ]
  },
  {
   "cell_type": "markdown",
   "metadata": {},
   "source": [
    "# Data Loader"
   ]
  },
  {
   "cell_type": "code",
   "execution_count": 2,
   "metadata": {},
   "outputs": [],
   "source": [
    "TEXT_vi = torchtext.data.ReversibleField(sequential=True, use_vocab=True, batch_first = False, tokenize= lambda t:t.split(),\n",
    "                                        include_lengths=True)\n",
    "TEXT_en = torchtext.data.ReversibleField(sequential=True, use_vocab=True, batch_first = False, tokenize= lambda t:t.split(),\n",
    "                              lower=True, init_token='<sos>', eos_token='<eos>',include_lengths=True)\n",
    "\n",
    "train_vi_en = torchtext.data.TabularDataset('../text_data/train_vi_en.csv', format='csv', \n",
    "                             fields=[('source',TEXT_vi),('target',TEXT_en)])\n",
    "validation_vi_en = torchtext.data.TabularDataset('../text_data/dev_vi_en.csv', format='csv', \n",
    "                             fields=[('source',TEXT_vi),('target',TEXT_en)])\n",
    "text_vi_en = torchtext.data.TabularDataset('../text_data/test_vi_en.csv', format='csv', \n",
    "                             fields=[('source',TEXT_vi),('target',TEXT_en)])\n",
    "\n",
    "\n",
    "\n",
    "TEXT_vi.build_vocab(train_vi_en, min_freq=3)\n",
    "TEXT_en.build_vocab(train_vi_en, min_freq=3)\n",
    "\n",
    "\n",
    "train_vi_en_iter = torchtext.data.BucketIterator(train_vi_en, batch_size=1, sort_key= lambda e: len(e.source),\n",
    "                             repeat = False, sort_within_batch=True, shuffle=True, device=torch.device(0))\n",
    "validation_vi_en_iter = torchtext.data.BucketIterator(validation_vi_en, batch_size=1,\n",
    "                             repeat = False, sort_within_batch=False, shuffle=False, device=torch.device(0))\n",
    "text_vi_en_iter = torchtext.data.BucketIterator(text_vi_en, batch_size=1, sort_key= lambda e: len(e.source),\n",
    "                             repeat = False, sort_within_batch=False, shuffle=False, device=torch.device(0))\n"
   ]
  },
  {
   "cell_type": "markdown",
   "metadata": {},
   "source": [
    "# Load model"
   ]
  },
  {
   "cell_type": "code",
   "execution_count": 3,
   "metadata": {},
   "outputs": [
    {
     "name": "stderr",
     "output_type": "stream",
     "text": [
      "/Users/qintai/anaconda3/lib/python3.6/site-packages/torch/serialization.py:391: UserWarning: Couldn't retrieve source code for container of type Bi_Multi_Layer_LSTM_Encoder. It won't be checked for correctness upon loading.\n",
      "  \"type \" + container_type.__name__ + \". It won't be checked \"\n",
      "/Users/qintai/anaconda3/lib/python3.6/site-packages/torch/serialization.py:425: SourceChangeWarning: source code of class 'torch.nn.modules.dropout.Dropout' has changed. you can retrieve the original source code by accessing the object's source attribute or set `torch.nn.Module.dump_patches = True` and use the patch tool to revert the changes.\n",
      "  warnings.warn(msg, SourceChangeWarning)\n",
      "/Users/qintai/anaconda3/lib/python3.6/site-packages/torch/serialization.py:425: SourceChangeWarning: source code of class 'torch.nn.modules.sparse.Embedding' has changed. you can retrieve the original source code by accessing the object's source attribute or set `torch.nn.Module.dump_patches = True` and use the patch tool to revert the changes.\n",
      "  warnings.warn(msg, SourceChangeWarning)\n",
      "/Users/qintai/anaconda3/lib/python3.6/site-packages/torch/serialization.py:425: SourceChangeWarning: source code of class 'torch.nn.modules.rnn.LSTM' has changed. you can retrieve the original source code by accessing the object's source attribute or set `torch.nn.Module.dump_patches = True` and use the patch tool to revert the changes.\n",
      "  warnings.warn(msg, SourceChangeWarning)\n",
      "/Users/qintai/anaconda3/lib/python3.6/site-packages/torch/serialization.py:391: UserWarning: Couldn't retrieve source code for container of type LSTM_Decoder_Without_Attention. It won't be checked for correctness upon loading.\n",
      "  \"type \" + container_type.__name__ + \". It won't be checked \"\n",
      "/Users/qintai/anaconda3/lib/python3.6/site-packages/torch/serialization.py:425: SourceChangeWarning: source code of class 'torch.nn.modules.linear.Linear' has changed. you can retrieve the original source code by accessing the object's source attribute or set `torch.nn.Module.dump_patches = True` and use the patch tool to revert the changes.\n",
      "  warnings.warn(msg, SourceChangeWarning)\n"
     ]
    }
   ],
   "source": [
    "class Bi_Multi_Layer_LSTM_Encoder(torch.nn.Module):\n",
    "    \n",
    "    def __init__(self, num_vocab, input_size = 512, hidden_size = 512, dropout = 0.15):\n",
    "        super().__init__()\n",
    "        self.input_size = input_size\n",
    "        self.hidden_size = hidden_size\n",
    "        self.num_layers = 1\n",
    "        self.dropout = dropout\n",
    "        \n",
    "        self.dropout_layer = torch.nn.Dropout(self.dropout)\n",
    "        \n",
    "        self.bidirectional = True\n",
    "        self.embedding_layer = torch.nn.Embedding(num_vocab, self.input_size)\n",
    "        self.lstm = torch.nn.LSTM(input_size= self.input_size, hidden_size = self.hidden_size, batch_first = False,\n",
    "                                 bidirectional = self.bidirectional, num_layers = self.num_layers)\n",
    "        \n",
    "        h_0 = torch.zeros(1, self.hidden_size)\n",
    "        torch.nn.init.normal_(h_0, mean=0, std=0.0001)\n",
    "        self.h_0 = torch.nn.Parameter(h_0,requires_grad=True)\n",
    "        \n",
    "        \n",
    "        c_0 = torch.zeros(1, self.hidden_size)\n",
    "        torch.nn.init.normal_(c_0, mean=0, std=0.0001)\n",
    "        self.c_0 = torch.nn.Parameter(c_0,requires_grad=True)\n",
    "        \n",
    "        \n",
    "        \n",
    "        if self.bidirectional:\n",
    "            h_1 = torch.zeros(1, self.hidden_size)\n",
    "            torch.nn.init.normal_(h_1, mean=0, std=0.0001)\n",
    "            self.h_1 = torch.nn.Parameter(h_1,requires_grad=True)\n",
    "            \n",
    "            \n",
    "            c_1 = torch.zeros(1, self.hidden_size)\n",
    "            torch.nn.init.normal_(c_1, mean=0, std=0.0001)\n",
    "            self.c_1 = torch.nn.Parameter(c_1,requires_grad=True)\n",
    "            \n",
    "        \n",
    "    def forward(self, X):\n",
    "        \n",
    "        X_data,X_len = X\n",
    "        #X_data: source_len, 1, input_size    X_len:1,1\n",
    "        \n",
    "        X_data = self.embedding_layer(X_data)\n",
    "        \n",
    "        h_0 = torch.cat([self.h_0]*len(X_len), dim=0).unsqueeze(1)\n",
    "        c_0 = torch.cat([self.c_0]*len(X_len), dim=0).unsqueeze(1)\n",
    "        \n",
    "        \n",
    "        if self.bidirectional:\n",
    "            h_1 = torch.cat([self.h_1]*len(X_len), dim=0).unsqueeze(1)\n",
    "            c_1 = torch.cat([self.c_1]*len(X_len), dim=0).unsqueeze(1)\n",
    "            \n",
    "            h = torch.cat([h_0,h_1], dim=0)\n",
    "            c = torch.cat([c_0,c_1], dim=0)   \n",
    "\n",
    "        output, (h_n, c_n) = self.lstm(X_data, (h, c))\n",
    "        #output: source_len, 1, 2*hidden_size\n",
    "        h_n = h_n.view(self.num_layers, 2, len(X_len), self.hidden_size)\n",
    "        c_n = c_n.view(self.num_layers, 2, len(X_len), self.hidden_size)\n",
    "        \n",
    "        \n",
    "        return output, h_n, c_n\n",
    "    \n",
    "    def init_parameters(self):\n",
    "        \n",
    "        for name, matrix in self.lstm.named_parameters():\n",
    "            if 'weight_hh_' in name:\n",
    "                for i in range(0, matrix.size(0), self.hidden_size):\n",
    "                    torch.nn.init.orthogonal_(matrix[i:i+self.hidden_size], gain=0.01)\n",
    "            elif 'bias_' in name:\n",
    "                l = len(matrix)\n",
    "                matrix[l // 4: l //2].data.fill_(1.0)\n",
    "                \n",
    "                \n",
    "class LSTM_Decoder_Without_Attention(torch.nn.Module):\n",
    "    \n",
    "    def __init__(self, num_vocab, input_size = 512, hidden_size = 512, dropout=0.15):\n",
    "        super().__init__()\n",
    "        self.num_vocab = num_vocab\n",
    "        self.input_size = input_size\n",
    "        self.hidden_size = hidden_size\n",
    "        self.num_layers = 1\n",
    "        self.dropout = dropout\n",
    "        self.dropout_layer = torch.nn.Dropout(self.dropout)\n",
    "        \n",
    "        self.embedding_layer = torch.nn.Embedding(self.num_vocab, self.input_size)\n",
    "        self.lstm = torch.nn.LSTM(hidden_size= self.hidden_size, input_size= self.input_size + 2 * self.hidden_size, \n",
    "                                  num_layers= self.num_layers)\n",
    "        \n",
    "        self.calcu_weight_1  = torch.nn.Linear(3*self.hidden_size, hidden_size)\n",
    "        self.calcu_weight_2  = torch.nn.Linear(self.hidden_size, 1)\n",
    "        \n",
    "        self.init_weight_1 = torch.nn.Linear(self.hidden_size, self.hidden_size)\n",
    "        self.init_weight_2 = torch.nn.Linear(self.hidden_size, self.hidden_size)\n",
    "        \n",
    "        self.linear_vob = torch.nn.Linear(self.hidden_size, self.num_vocab)\n",
    "        \n",
    "        \n",
    "    def forward(self, input_word_index, hidden_vector, cell_vector, encoder_memory, is_init = False):\n",
    "        #input_word_index: [num]\n",
    "        #hidden_vector: 1, 1, hidden_size\n",
    "        #cell_vector: 1, 1, hidden_size\n",
    "        #encoder_memory:  2 * hidden_size\n",
    "        \n",
    "        if hidden_vector.shape[0] != self.num_layers or hidden_vector.shape[2] != self.hidden_size:\n",
    "            raise ValueError('The size of hidden_vector is not correct, expect '+str((self.num_layers, self.hidden_size))\\\n",
    "                            + ', actually get ' + str(hidden_vector.shape))\n",
    "        \n",
    "        if is_init:\n",
    "            hidden_vector = torch.tanh(self.init_weight_1(hidden_vector))\n",
    "            cell_vector = torch.tanh(self.init_weight_2(cell_vector))\n",
    "            \n",
    "        \n",
    "        \n",
    "        \n",
    "        convect_vector = encoder_memory.unsqueeze(0)\n",
    "        #convect_vector: 1 , 2 * hidden_size\n",
    "        \n",
    "        \n",
    "        input_vector = self.embedding_layer(input_word_index).view(1,1,-1)\n",
    "        input_vector = self.dropout_layer(input_vector)\n",
    "        \n",
    "        \n",
    "        input_vector = torch.cat([convect_vector.unsqueeze(0), input_vector], dim=2)\n",
    "        \n",
    "        \n",
    "        output, (h_t, c_t) = self.lstm(input_vector,(hidden_vector, cell_vector))\n",
    "        output = output.view(1, self.hidden_size)\n",
    "        \n",
    "        \n",
    "        prob = self.linear_vob(output)\n",
    "        #prob 1, vob_size\n",
    "        \n",
    "        prob = torch.nn.functional.log_softmax(prob, dim=1)\n",
    "        \n",
    "        \n",
    "        return prob, h_t, c_t\n",
    "    \n",
    "    def init_parameters(self):\n",
    "        \n",
    "        for name, matrix in self.lstm.named_parameters():\n",
    "            if 'weight_hh_' in name:\n",
    "                for i in range(0, matrix.size(0), self.hidden_size):\n",
    "                    torch.nn.init.orthogonal_(matrix[i:i+self.hidden_size], gain=0.01)\n",
    "            elif 'bias_' in name:\n",
    "                l = len(matrix)\n",
    "                matrix[l // 4: l //2].data.fill_(1.0)\n",
    "                \n",
    "encoder_1 = torch.load('../model/rnn_without_attention_vi/encoder_1')\n",
    "decoder_1 = torch.load('../model/rnn_without_attention_vi/decoder_1')\n",
    "\n",
    "    "
   ]
  },
  {
   "cell_type": "markdown",
   "metadata": {},
   "source": [
    "# Validation bleu score for model"
   ]
  },
  {
   "cell_type": "code",
   "execution_count": 17,
   "metadata": {},
   "outputs": [],
   "source": [
    "class Bean_Search_Status_Record:\n",
    "    \n",
    "    def __init__(self, h_t, c_t, predict_word_index_list, sum_log_prob):\n",
    "        self.h_t = h_t\n",
    "        self.c_t = c_t\n",
    "        self.predict_word_index_list = predict_word_index_list\n",
    "        self.sum_log_prob = sum_log_prob\n",
    "        self.avg_log_prob = 0\n",
    "        \n",
    "        \n",
    "        \n",
    "\n",
    "\n",
    "\n",
    "def test(encoder, decoder, data_iter, path_name_temp, TEXT_en, k=10):\n",
    "    encoder.eval()\n",
    "    decoder.eval()\n",
    "\n",
    "    path_name = '../eval/'+path_name_temp+'/'\n",
    "    os.mkdir(path_name)\n",
    "\n",
    "    predict_file_name = path_name + 'predict.txt'\n",
    "    target_file_name = path_name + 'target_file_name.txt'\n",
    "\n",
    "    predict_file = open(predict_file_name, 'w')\n",
    "    target_file = open(target_file_name, 'w')\n",
    "\n",
    "\n",
    "    for batch in data_iter:\n",
    "        \n",
    "        \n",
    "        \n",
    "        source, target = batch.source, batch.target\n",
    "        \n",
    "\n",
    "        source_data,source_len = source[0], source[1]\n",
    "        target_data,target_len = target[0], target[1]\n",
    "        \n",
    "        all_output, h_n, c_n = encoder(source)\n",
    "        output = c_n.flatten()\n",
    "\n",
    "        target_word = TEXT_en.vocab.stoi['<sos>']\n",
    "\n",
    "        h_t = h_n[:,1,:]\n",
    "        c_t = c_n[:,1,:]\n",
    "\n",
    "        is_init = True\n",
    "\n",
    "\n",
    "        right_whole_sentence_word_index = target_data[1: target_len[0].item()-1,0]\n",
    "        right_whole_sentence_word_index = list(right_whole_sentence_word_index.cpu().numpy())\n",
    "        \n",
    "        \n",
    "        sequences = [Bean_Search_Status_Record(h_t, c_t, predict_word_index_list = [target_word], \n",
    "                                               sum_log_prob = 0.0)]\n",
    "        \n",
    "        t = 0\n",
    "        while (t < 100):\n",
    "            all_candidates = []\n",
    "            for i in range(len(sequences)):\n",
    "                record = sequences[i]\n",
    "                h_t = record.h_t\n",
    "                c_t = record.c_t\n",
    "                predict_word_index_list = record.predict_word_index_list\n",
    "                sum_log_prob = record.sum_log_prob\n",
    "                target_word = predict_word_index_list[-1]\n",
    "                \n",
    "                if TEXT_en.vocab.stoi['<eos>'] != target_word:\n",
    "                \n",
    "                    prob, h_t, c_t = decoder(torch.tensor([target_word]).cuda(0), h_t, c_t, output, is_init)\n",
    "\n",
    "                    k_prob_value_list, k_word_index_list = prob.topk(k,dim=1)\n",
    "                    k_prob_value_list = k_prob_value_list.cpu().detach().squeeze().numpy()\n",
    "                    k_word_index_list = k_word_index_list.cpu().squeeze().numpy()\n",
    "                    \n",
    "                    \n",
    "                    for prob_value, word_index in zip(k_prob_value_list, k_word_index_list):\n",
    "                        prob_value = float(prob_value)\n",
    "                        word_index = int(word_index)\n",
    "                        new_record = Bean_Search_Status_Record(h_t, c_t, predict_word_index_list+[word_index], sum_log_prob+prob_value)\n",
    "                        new_record.avg_log_prob = new_record.sum_log_prob/((4+len(new_record.predict_word_index_list))**0.6/(6)**0.6)\n",
    "                        all_candidates.append(new_record)\n",
    "                else:\n",
    "                    all_candidates.append(record)\n",
    "            is_init = False\n",
    "                        \n",
    "            ordered = sorted(all_candidates, key = lambda r: r.avg_log_prob, reverse = True)\n",
    "            sequences = ordered[:k]\n",
    "            \n",
    "            t += 1\n",
    "        final_record = sequences[0]\n",
    "        \n",
    "        predict_whole_sentence_word_index = [TEXT_en.vocab.itos[temp_index] for temp_index in final_record.predict_word_index_list[1:-1]]\n",
    "        right_whole_sentence_word_index = [TEXT_en.vocab.itos[temp_index] for temp_index in right_whole_sentence_word_index]\n",
    "\n",
    "        predict_whole_sentence = ' '.join(predict_whole_sentence_word_index)\n",
    "        right_whole_sentence = ' '.join(right_whole_sentence_word_index)\n",
    "\n",
    "        predict_file.write(predict_whole_sentence.strip() + '\\n')\n",
    "        target_file.write(right_whole_sentence.strip() + '\\n')\n",
    "\n",
    "\n",
    "    predict_file.close()\n",
    "    target_file.close()\n",
    "\n",
    "    result = subprocess.run('cat {} | sacrebleu {}'.format(predict_file_name,target_file_name),shell=True,stdout=subprocess.PIPE)\n",
    "    result = str(result)\n",
    "    print(result)\n",
    "    sys.stdout.flush()\n",
    "    \n",
    "    \n",
    "    return get_blue_score(result)\n",
    "\n",
    "\n",
    "    \n",
    "def get_blue_score(s):\n",
    "    a = re.search(r'13a\\+version\\.1\\.2\\.12 = ([0-9.]+)',s)\n",
    "    return float(a.group(1))"
   ]
  },
  {
   "cell_type": "code",
   "execution_count": 12,
   "metadata": {},
   "outputs": [
    {
     "name": "stdout",
     "output_type": "stream",
     "text": [
      "CompletedProcess(args='cat ../eval/beam_search_rnn_without_attention_vi_val/predict.txt | sacrebleu ../eval/beam_search_rnn_without_attention_vi_val/target_file_name.txt', returncode=0, stdout=b'BLEU+case.mixed+numrefs.1+smooth.exp+tok.13a+version.1.2.12 = 12.3 41.7/16.4/8.0/4.2 (BP = 1.000 ratio = 1.017 hyp_len = 28753 ref_len = 28275)\\n')\n"
     ]
    },
    {
     "data": {
      "text/plain": [
       "12.3"
      ]
     },
     "execution_count": 12,
     "metadata": {},
     "output_type": "execute_result"
    }
   ],
   "source": [
    "test(encoder_1, decoder_1, validation_vi_en_iter,path_name_temp='beam_search_rnn_without_attention_vi_val', \n",
    "     TEXT_en=TEXT_en)"
   ]
  },
  {
   "cell_type": "markdown",
   "metadata": {},
   "source": [
    "# test data bleu score"
   ]
  },
  {
   "cell_type": "code",
   "execution_count": 13,
   "metadata": {},
   "outputs": [
    {
     "name": "stdout",
     "output_type": "stream",
     "text": [
      "CompletedProcess(args='cat ../eval/beam_search_rnn_without_attention_vi_test/predict.txt | sacrebleu ../eval/beam_search_rnn_without_attention_vi_test/target_file_name.txt', returncode=0, stdout=b'BLEU+case.mixed+numrefs.1+smooth.exp+tok.13a+version.1.2.12 = 13.5 43.1/17.4/9.2/5.2 (BP = 0.981 ratio = 0.981 hyp_len = 29442 ref_len = 30012)\\n')\n"
     ]
    },
    {
     "data": {
      "text/plain": [
       "13.5"
      ]
     },
     "execution_count": 13,
     "metadata": {},
     "output_type": "execute_result"
    }
   ],
   "source": [
    "test(encoder_1, decoder_1, text_vi_en_iter,path_name_temp='beam_search_rnn_without_attention_vi_test', \n",
    "     TEXT_en=TEXT_en)"
   ]
  },
  {
   "cell_type": "markdown",
   "metadata": {},
   "source": [
    "# relationship between blue score and sentence length"
   ]
  },
  {
   "cell_type": "code",
   "execution_count": 14,
   "metadata": {},
   "outputs": [
    {
     "name": "stderr",
     "output_type": "stream",
     "text": [
      "WARNING:root:That's 100 lines that end in a tokenized period ('.')\n",
      "WARNING:root:It looks like you forgot to detokenize your test data, which may hurt your score.\n",
      "WARNING:root:If you insist your data is detokenized, or don't care, you can suppress this message with '--force'.\n",
      "WARNING:root:That's 100 lines that end in a tokenized period ('.')\n",
      "WARNING:root:It looks like you forgot to detokenize your test data, which may hurt your score.\n",
      "WARNING:root:If you insist your data is detokenized, or don't care, you can suppress this message with '--force'.\n",
      "WARNING:root:That's 100 lines that end in a tokenized period ('.')\n",
      "WARNING:root:It looks like you forgot to detokenize your test data, which may hurt your score.\n",
      "WARNING:root:If you insist your data is detokenized, or don't care, you can suppress this message with '--force'.\n",
      "WARNING:root:That's 100 lines that end in a tokenized period ('.')\n",
      "WARNING:root:It looks like you forgot to detokenize your test data, which may hurt your score.\n",
      "WARNING:root:If you insist your data is detokenized, or don't care, you can suppress this message with '--force'.\n",
      "WARNING:root:That's 100 lines that end in a tokenized period ('.')\n",
      "WARNING:root:It looks like you forgot to detokenize your test data, which may hurt your score.\n",
      "WARNING:root:If you insist your data is detokenized, or don't care, you can suppress this message with '--force'.\n"
     ]
    },
    {
     "data": {
      "text/plain": [
       "[('The bleu score for the text length from 0 to 5', 11.75355261199412),\n",
       " ('The bleu score for the text length from 5 to 10', 19.97024752709189),\n",
       " ('The bleu score for the text length from 10 to 15', 17.26722620178852),\n",
       " ('The bleu score for the text length from 15 to 20', 13.870007124464113),\n",
       " ('The bleu score for the text length from 20 to 25', 12.979008184979905),\n",
       " ('The bleu score for the text length from 25 to 30', 13.037543543945784),\n",
       " ('The bleu score for the text length from 30 to 35', 12.245974923171763),\n",
       " ('The bleu score for the text length from 35 to 40', 8.425290818188454),\n",
       " ('The bleu score for the text length from 40 to 45', 10.41140531520233),\n",
       " ('The bleu score for the text length from 45 to 50', 10.6494491016393),\n",
       " ('The bleu score for the text length larger than 50', 7.1300660589104545),\n",
       " ('The bleu score for the text length larger than 55', 6.618942690331497),\n",
       " ('The bleu score for the text length larger than 60', 6.5293336801806)]"
      ]
     },
     "execution_count": 14,
     "metadata": {},
     "output_type": "execute_result"
    }
   ],
   "source": [
    "predict = list(open('../eval/beam_search_rnn_without_attention_vi_test/predict.txt'))\n",
    "target = list(open('../eval/beam_search_rnn_without_attention_vi_test/target_file_name.txt'))\n",
    "\n",
    "def classify_length(predict, target,l1, l2):\n",
    "    pre1=[]\n",
    "    tar1=[]\n",
    "    if l1<50:\n",
    "        for i in range(len(target)):\n",
    "            if len(target[i].split())>=l1 and len(target[i].split())<l2:\n",
    "                pre1.append(predict[i])\n",
    "                tar1.append(target[i])\n",
    "        score= sacrebleu.corpus_bleu(pre1,[tar1]).score\n",
    "        a =str('The bleu score for the text length from {} to {}'.format(l1,l2))                \n",
    "    else:\n",
    "        for i in range(len(target)):\n",
    "            if len(target[i].split())>=l1:\n",
    "                pre1.append(predict[i])\n",
    "                tar1.append(target[i])                \n",
    "        score= sacrebleu.corpus_bleu(pre1,[tar1]).score\n",
    "        a =str('The bleu score for the text length larger than {}'.format(l1))\n",
    "    result = (a, score)\n",
    "    \n",
    "    return result\n",
    "\n",
    "result = []\n",
    "for i in range(12):\n",
    "    result.append(classify_length(predict,target,i*5,(i+1)*5))\n",
    "result.append(classify_length(predict,target,60,500))          \n",
    "\n",
    "result"
   ]
  },
  {
   "cell_type": "code",
   "execution_count": 15,
   "metadata": {},
   "outputs": [],
   "source": [
    "result = np.array([(int(item[0].split(' ')[-1]),item[1]) for item in result])"
   ]
  },
  {
   "cell_type": "code",
   "execution_count": 16,
   "metadata": {},
   "outputs": [
    {
     "data": {
      "text/plain": [
       "[<matplotlib.lines.Line2D at 0x16e662828>]"
      ]
     },
     "execution_count": 16,
     "metadata": {},
     "output_type": "execute_result"
    },
    {
     "data": {
      "image/png": "[encoded data removed]",
      "text/plain": [
       "<matplotlib.figure.Figure at 0x16e6f1748>"
      ]
     },
     "metadata": {},
     "output_type": "display_data"
    }
   ],
   "source": [
    "plt.plot(result[:,0],result[:,1])"
   ]
  },
  {
   "cell_type": "markdown",
   "metadata": {},
   "source": [
    "# Load zh data"
   ]
  },
  {
   "cell_type": "code",
   "execution_count": 18,
   "metadata": {},
   "outputs": [],
   "source": [
    "TEXT_zh = torchtext.data.ReversibleField(sequential=True, use_vocab=True, batch_first = False, tokenize= lambda t:t.split(),\n",
    "                                        include_lengths=True)\n",
    "TEXT_en = torchtext.data.ReversibleField(sequential=True, use_vocab=True, batch_first = False, tokenize= lambda t:t.split(),\n",
    "                              lower=True, init_token='<sos>', eos_token='<eos>',include_lengths=True)\n",
    "train_zh_en = torchtext.data.TabularDataset('../text_data/train_zh_en.csv', format='csv', \n",
    "                             fields=[('source',TEXT_zh),('target',TEXT_en)])\n",
    "validation_zh_en = torchtext.data.TabularDataset('../text_data/dev_zh_en.csv', format='csv', \n",
    "                             fields=[('source',TEXT_zh),('target',TEXT_en)])\n",
    "test_zh_en = torchtext.data.TabularDataset('../text_data/test_zh_en.csv', format='csv', \n",
    "                             fields=[('source',TEXT_zh),('target',TEXT_en)])\n",
    "\n",
    "\n",
    "\n",
    "TEXT_zh.build_vocab(train_zh_en, min_freq=3)\n",
    "TEXT_en.build_vocab(train_zh_en, min_freq=3)\n",
    "\n",
    "\n",
    "validation_zh_en_iter = torchtext.data.BucketIterator(validation_zh_en, batch_size=1,\n",
    "                             repeat = False, sort_within_batch=False, shuffle=False, device=torch.device(0))\n",
    "test_zh_en_iter = torchtext.data.BucketIterator(test_zh_en, batch_size=1,\n",
    "                             repeat = False, sort_within_batch=False, shuffle=False, device=torch.device(0))\n"
   ]
  },
  {
   "cell_type": "code",
   "execution_count": 20,
   "metadata": {},
   "outputs": [
    {
     "name": "stderr",
     "output_type": "stream",
     "text": [
      "/Users/qintai/anaconda3/lib/python3.6/site-packages/torch/serialization.py:391: UserWarning: Couldn't retrieve source code for container of type Bi_Multi_Layer_LSTM_Encoder. It won't be checked for correctness upon loading.\n",
      "  \"type \" + container_type.__name__ + \". It won't be checked \"\n",
      "/Users/qintai/anaconda3/lib/python3.6/site-packages/torch/serialization.py:425: SourceChangeWarning: source code of class 'torch.nn.modules.dropout.Dropout' has changed. you can retrieve the original source code by accessing the object's source attribute or set `torch.nn.Module.dump_patches = True` and use the patch tool to revert the changes.\n",
      "  warnings.warn(msg, SourceChangeWarning)\n",
      "/Users/qintai/anaconda3/lib/python3.6/site-packages/torch/serialization.py:425: SourceChangeWarning: source code of class 'torch.nn.modules.sparse.Embedding' has changed. you can retrieve the original source code by accessing the object's source attribute or set `torch.nn.Module.dump_patches = True` and use the patch tool to revert the changes.\n",
      "  warnings.warn(msg, SourceChangeWarning)\n",
      "/Users/qintai/anaconda3/lib/python3.6/site-packages/torch/serialization.py:425: SourceChangeWarning: source code of class 'torch.nn.modules.rnn.LSTM' has changed. you can retrieve the original source code by accessing the object's source attribute or set `torch.nn.Module.dump_patches = True` and use the patch tool to revert the changes.\n",
      "  warnings.warn(msg, SourceChangeWarning)\n",
      "/Users/qintai/anaconda3/lib/python3.6/site-packages/torch/serialization.py:391: UserWarning: Couldn't retrieve source code for container of type LSTM_Decoder_Without_Attention. It won't be checked for correctness upon loading.\n",
      "  \"type \" + container_type.__name__ + \". It won't be checked \"\n",
      "/Users/qintai/anaconda3/lib/python3.6/site-packages/torch/serialization.py:425: SourceChangeWarning: source code of class 'torch.nn.modules.linear.Linear' has changed. you can retrieve the original source code by accessing the object's source attribute or set `torch.nn.Module.dump_patches = True` and use the patch tool to revert the changes.\n",
      "  warnings.warn(msg, SourceChangeWarning)\n"
     ]
    }
   ],
   "source": [
    "encoder_1 = torch.load('../model/rnn_without_attention_zh/encoder_1')\n",
    "decoder_1 = torch.load('../model/rnn_without_attention_zh/decoder_1')"
   ]
  },
  {
   "cell_type": "markdown",
   "metadata": {},
   "source": [
    "# validation bleu score for model"
   ]
  },
  {
   "cell_type": "code",
   "execution_count": 21,
   "metadata": {},
   "outputs": [
    {
     "name": "stdout",
     "output_type": "stream",
     "text": [
      "CompletedProcess(args='cat ../eval/beam_search_rnn_without_attention_zh_val/predict.txt | sacrebleu ../eval/beam_search_rnn_without_attention_zh_val/target_file_name.txt', returncode=0, stdout=b'BLEU+case.mixed+numrefs.1+smooth.exp+tok.13a+version.1.2.12 = 9.7 35.8/12.9/6.1/3.2 (BP = 1.000 ratio = 1.026 hyp_len = 30003 ref_len = 29243)\\n')\n"
     ]
    },
    {
     "data": {
      "text/plain": [
       "9.7"
      ]
     },
     "execution_count": 21,
     "metadata": {},
     "output_type": "execute_result"
    }
   ],
   "source": [
    "test(encoder_1, decoder_1, validation_zh_en_iter,path_name_temp='beam_search_rnn_without_attention_zh_val', \n",
    "     TEXT_en=TEXT_en)"
   ]
  },
  {
   "cell_type": "markdown",
   "metadata": {},
   "source": [
    "# test data bleu score for model"
   ]
  },
  {
   "cell_type": "code",
   "execution_count": 22,
   "metadata": {},
   "outputs": [
    {
     "name": "stdout",
     "output_type": "stream",
     "text": [
      "CompletedProcess(args='cat ../eval/beam_search_rnn_without_attention_zh_test/predict.txt | sacrebleu ../eval/beam_search_rnn_without_attention_zh_test/target_file_name.txt', returncode=0, stdout=b'BLEU+case.mixed+numrefs.1+smooth.exp+tok.13a+version.1.2.12 = 10.8 39.9/14.8/7.6/4.1 (BP = 0.923 ratio = 0.926 hyp_len = 25088 ref_len = 27091)\\n')\n"
     ]
    },
    {
     "data": {
      "text/plain": [
       "10.8"
      ]
     },
     "execution_count": 22,
     "metadata": {},
     "output_type": "execute_result"
    }
   ],
   "source": [
    "test(encoder_1, decoder_1, test_zh_en_iter,path_name_temp='beam_search_rnn_without_attention_zh_test', \n",
    "     TEXT_en=TEXT_en)"
   ]
  },
  {
   "cell_type": "code",
   "execution_count": 23,
   "metadata": {},
   "outputs": [
    {
     "name": "stderr",
     "output_type": "stream",
     "text": [
      "WARNING:root:That's 100 lines that end in a tokenized period ('.')\n",
      "WARNING:root:It looks like you forgot to detokenize your test data, which may hurt your score.\n",
      "WARNING:root:If you insist your data is detokenized, or don't care, you can suppress this message with '--force'.\n",
      "WARNING:root:That's 100 lines that end in a tokenized period ('.')\n",
      "WARNING:root:It looks like you forgot to detokenize your test data, which may hurt your score.\n",
      "WARNING:root:If you insist your data is detokenized, or don't care, you can suppress this message with '--force'.\n",
      "WARNING:root:That's 100 lines that end in a tokenized period ('.')\n",
      "WARNING:root:It looks like you forgot to detokenize your test data, which may hurt your score.\n",
      "WARNING:root:If you insist your data is detokenized, or don't care, you can suppress this message with '--force'.\n",
      "WARNING:root:That's 100 lines that end in a tokenized period ('.')\n",
      "WARNING:root:It looks like you forgot to detokenize your test data, which may hurt your score.\n",
      "WARNING:root:If you insist your data is detokenized, or don't care, you can suppress this message with '--force'.\n"
     ]
    },
    {
     "data": {
      "text/plain": [
       "[('The bleu score for the text length from 0 to 5', 10.944553197976964),\n",
       " ('The bleu score for the text length from 5 to 10', 18.155489996013902),\n",
       " ('The bleu score for the text length from 10 to 15', 13.632923341504144),\n",
       " ('The bleu score for the text length from 15 to 20', 11.268284515955749),\n",
       " ('The bleu score for the text length from 20 to 25', 10.655752076222619),\n",
       " ('The bleu score for the text length from 25 to 30', 10.139251556007581),\n",
       " ('The bleu score for the text length from 30 to 35', 8.047592257693914),\n",
       " ('The bleu score for the text length from 35 to 40', 7.416399480307188),\n",
       " ('The bleu score for the text length from 40 to 45', 7.734336817271133),\n",
       " ('The bleu score for the text length from 45 to 50', 6.621465462337658),\n",
       " ('The bleu score for the text length larger than 50', 6.827019684785207),\n",
       " ('The bleu score for the text length larger than 55', 6.752637026573981),\n",
       " ('The bleu score for the text length larger than 60', 5.25215421719911)]"
      ]
     },
     "execution_count": 23,
     "metadata": {},
     "output_type": "execute_result"
    }
   ],
   "source": [
    "predict = list(open('../eval/beam_search_rnn_without_attention_zh_test/predict.txt'))\n",
    "target = list(open('../eval/beam_search_rnn_without_attention_zh_test/target_file_name.txt'))\n",
    "result = []\n",
    "for i in range(12):\n",
    "    result.append(classify_length(predict,target,i*5,(i+1)*5))\n",
    "result.append(classify_length(predict,target,60,500))          \n",
    "\n",
    "result"
   ]
  },
  {
   "cell_type": "code",
   "execution_count": 24,
   "metadata": {},
   "outputs": [],
   "source": [
    "result = np.array([(int(item[0].split(' ')[-1]),item[1]) for item in result])"
   ]
  },
  {
   "cell_type": "code",
   "execution_count": 25,
   "metadata": {},
   "outputs": [
    {
     "data": {
      "text/plain": [
       "[<matplotlib.lines.Line2D at 0x16e7f5f28>]"
      ]
     },
     "execution_count": 25,
     "metadata": {},
     "output_type": "execute_result"
    },
    {
     "data": {
      "image/png": "[encoded data removed]",
      "text/plain": [
       "<matplotlib.figure.Figure at 0x1ca66bb70>"
      ]
     },
     "metadata": {},
     "output_type": "display_data"
    }
   ],
   "source": [
    "plt.plot(result[:,0],result[:,1])"
   ]
  },
  {
   "cell_type": "code",
   "execution_count": null,
   "metadata": {},
   "outputs": [],
   "source": []
  }
 ],
 "metadata": {
  "kernelspec": {
   "display_name": "Python 3",
   "language": "python",
   "name": "python3"
  },
  "language_info": {
   "codemirror_mode": {
    "name": "ipython",
    "version": 3
   },
   "file_extension": ".py",
   "mimetype": "text/x-python",
   "name": "python",
   "nbconvert_exporter": "python",
   "pygments_lexer": "ipython3",
   "version": "3.6.4"
  }
 },
 "nbformat": 4,
 "nbformat_minor": 2
}
