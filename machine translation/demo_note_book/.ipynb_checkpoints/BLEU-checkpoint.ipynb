{
 "cells": [
  {
   "cell_type": "code",
   "execution_count": 1,
   "metadata": {},
   "outputs": [],
   "source": [
    "import sacrebleu"
   ]
  },
  {
   "cell_type": "code",
   "execution_count": 5,
   "metadata": {
    "collapsed": true
   },
   "outputs": [],
   "source": [
    "predict = list(open('predict.txt'))\n",
    "target = list(open('target_file_name.txt'))"
   ]
  },
  {
   "cell_type": "code",
   "execution_count": 72,
   "metadata": {},
   "outputs": [],
   "source": [
    "def classify_length(predict, target,l1, l2):\n",
    "    pre1=[]\n",
    "    tar1=[]\n",
    "    if l1<50:\n",
    "        for i in range(len(target)):\n",
    "            if len(target[i].split())>=l1 and len(target[i].split())<l2:\n",
    "                pre1.append(predict[i])\n",
    "                tar1.append(target[i])\n",
    "        score= sacrebleu.corpus_bleu(pre1,[tar1]).score\n",
    "        a =str('The bleu score for the text length from {} to {}'.format(l1,l2))                \n",
    "    else:\n",
    "        for i in range(len(target)):\n",
    "            if len(target[i].split())>=l1:\n",
    "                pre1.append(predict[i])\n",
    "                tar1.append(target[i])                \n",
    "        score= sacrebleu.corpus_bleu(pre1,[tar1]).score\n",
    "        a =str('The bleu score for the text length larger than {}'.format(l1))\n",
    "    result = (a, score)\n",
    "    \n",
    "    return result"
   ]
  },
  {
   "cell_type": "code",
   "execution_count": 73,
   "metadata": {},
   "outputs": [
    {
     "name": "stderr",
     "output_type": "stream",
     "text": [
      "WARNING:root:That's 100 lines that end in a tokenized period ('.')\n",
      "WARNING:root:It looks like you forgot to detokenize your test data, which may hurt your score.\n",
      "WARNING:root:If you insist your data is detokenized, or don't care, you can suppress this message with '--force'.\n",
      "WARNING:root:That's 100 lines that end in a tokenized period ('.')\n",
      "WARNING:root:It looks like you forgot to detokenize your test data, which may hurt your score.\n",
      "WARNING:root:If you insist your data is detokenized, or don't care, you can suppress this message with '--force'.\n",
      "WARNING:root:That's 100 lines that end in a tokenized period ('.')\n",
      "WARNING:root:It looks like you forgot to detokenize your test data, which may hurt your score.\n",
      "WARNING:root:If you insist your data is detokenized, or don't care, you can suppress this message with '--force'.\n",
      "WARNING:root:That's 100 lines that end in a tokenized period ('.')\n",
      "WARNING:root:It looks like you forgot to detokenize your test data, which may hurt your score.\n",
      "WARNING:root:If you insist your data is detokenized, or don't care, you can suppress this message with '--force'.\n",
      "WARNING:root:That's 100 lines that end in a tokenized period ('.')\n",
      "WARNING:root:It looks like you forgot to detokenize your test data, which may hurt your score.\n",
      "WARNING:root:If you insist your data is detokenized, or don't care, you can suppress this message with '--force'.\n",
      "WARNING:root:That's 100 lines that end in a tokenized period ('.')\n",
      "WARNING:root:It looks like you forgot to detokenize your test data, which may hurt your score.\n",
      "WARNING:root:If you insist your data is detokenized, or don't care, you can suppress this message with '--force'.\n"
     ]
    }
   ],
   "source": [
    "result = []\n",
    "for i in range(10):\n",
    "    result.append(classify_length(predict,target,i*5,(i+1)*5))\n",
    "result.append(classify_length(predict,target,50,500))          "
   ]
  },
  {
   "cell_type": "code",
   "execution_count": 75,
   "metadata": {},
   "outputs": [
    {
     "data": {
      "text/plain": [
       "[('The bleu score for the text length from 0 to 5', 42.962840795376884),\n",
       " ('The bleu score for the text length from 5 to 10', 31.295943124566673),\n",
       " ('The bleu score for the text length from 10 to 15', 26.5399327373284),\n",
       " ('The bleu score for the text length from 15 to 20', 23.85012294506786),\n",
       " ('The bleu score for the text length from 20 to 25', 22.804295614379555),\n",
       " ('The bleu score for the text length from 25 to 30', 22.515933143505176),\n",
       " ('The bleu score for the text length from 30 to 35', 22.60280881208871),\n",
       " ('The bleu score for the text length from 35 to 40', 22.801267161821105),\n",
       " ('The bleu score for the text length larger than 40', 20.539214915382196)]"
      ]
     },
     "execution_count": 75,
     "metadata": {},
     "output_type": "execute_result"
    }
   ],
   "source": [
    "result"
   ]
  }
 ],
 "metadata": {
  "kernelspec": {
   "display_name": "Python 3",
   "language": "python",
   "name": "python3"
  },
  "language_info": {
   "codemirror_mode": {
    "name": "ipython",
    "version": 3
   },
   "file_extension": ".py",
   "mimetype": "text/x-python",
   "name": "python",
   "nbconvert_exporter": "python",
   "pygments_lexer": "ipython3",
   "version": "3.6.4"
  }
 },
 "nbformat": 4,
 "nbformat_minor": 2
}
